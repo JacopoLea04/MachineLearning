





import matplotlib.pyplot as plt
import csv
from scipy import stats
import numpy as np
import sklearn as sl
from sklearn import linear_model as lm


import csv
import matplotlib.pyplot as plt
from scipy import stats
import numpy as np
import sklearn as sl
from sklearn import linear_model as lm
from sklearn.linear_model import LinearRegression
# Carica i file dati con le informazioni sulle auto usate (prova ad aprirlo con un text editor per vedere il contenuto!)

filename = "km_year_power_price.csv"
#lines = csv.reader(open(filename, newline=''), delimiter=',')

# metti qui il codice per caricare

chilometri = [] #variabile indipendente(km)
anno = [] #variabile indipendente(anno)
potenza = [] #variabile indipendente(potenza)
prezzo = [] #variabile dipendente(prezzo)

# Leggere il file CSV e riempire gli array
with open(filename, newline='', encoding='utf-8') as file: # filename(variabile in cui c'è il file), newline=''(assicua che tutte le righe del file vengano lette correttamente su tutti i sistemi operativi), encoding='utf-8'(evita errori con i caratteri)
    reader = csv.reader(file, delimiter=',')
    next(reader)  # Salta l'intestazione
    for riga in reader:
        chilometri.append(float(riga[0]))  # km
        anno.append(float(riga[1])) #anno
        potenza.append(float(riga[2])) #potenza
        prezzo.append(float(riga[3]))  # prezzo
# Convertire in array NumPy per usarli nella regressione
chilometri = np.array(chilometri)
anno = np.array(anno)
potenza = np.array(potenza)
prezzo = np.array(prezzo)

#print("chilometri:", chilometri[:5])  # Prime 5 righe delle variabili indipendenti
#print("prezzo:", prezzo[:5])  # Prime 5 righe della variabile dipendente

#print(len(anno), len(prezzo))






# Regressione lineare con linregress (stima il prezzo dall'anno)


# your code.....
slope1, intercept1, r_value1, p_value1, std_err1 = stats.linregress(anno, prezzo)



# (Opzionale) regressione lineare con linear_model.LinearRegression() (stima il prezzo dall'anno)
# Ricorda che in Python una  matrice mx1 è diversa da un array 1D -> usa reshape

# your code.....


# (Opzionale) implementa la regressione lineare coi minimi quadrati "a mano" senza usare le funzioni di Python
# Dovresti ottenere lo stesso risultato di linregress !

# your code.....


# Plotta i dati e le linee che rappresentano l'output degli algoritmi linregress e dei minimi quadrati

# your code....
retta_pred1 = slope1 * anno + intercept1
plt.figure(figsize=(10, 6))

# Scatter plot dei dati originali
plt.scatter(anno, prezzo, color='blue', label='Dati reali')

# Linea di regressione da scipy.linregress
plt.plot(anno, retta_pred1, color='red', label='Regressione scipy (linregress)', linewidth=2)

# Etichette e titolo
plt.xlabel('Anno')
plt.ylabel('Prezzo')
plt.title('Regressione Lineare: Anno vs Prezzo')

# Legenda
plt.legend()

# Mostra il grafico
plt.show()

# Stampa i risultati delle due regressioni
print(f"Risultati da scipy.linregress:")
print(f"Pendenza (slope): {slope1}")
print(f"Intercetta (intercept): {intercept1}")
print(f"R^2 (r_value^2): {r_value1**2}")
print(f"Valore p (p_value): {p_value1}")
print(f"Errore standard (std_err): {std_err1}")


# Regressione lineare con linregress (stima il prezzo dalla potenza)

# your code.....

slope2, intercept2, r_value2, p_value2, std_err2 = stats.linregress(potenza, prezzo)
retta_pred2 = slope2 * potenza + intercept2

plt.figure(figsize=(10, 6))

# Scatter plot dei dati originali
plt.scatter(potenza, prezzo, color='blue', label='Dati reali')

# Linea di regressione da scipy.linregress
plt.plot(potenza, retta_pred2, color='red', label='Regressione scipy (linregress)', linewidth=2)


# Etichette e titolo
plt.xlabel('potenza')
plt.ylabel('Prezzo')
plt.title('Regressione Lineare: potenza vs Prezzo')

# Legenda
plt.legend()

# Mostra il grafico
plt.show()

# Stampa i risultati delle due regressioni
print(f"Risultati da scipy.linregress:")
print(f"Pendenza (slope): {slope2}")
print(f"Intercetta (intercept): {intercept2}")
print(f"R^2 (r_value^2): {r_value2**2}")
print(f"Valore p (p_value): {p_value2}")
print(f"Errore standard (std_err): {std_err2}")


# regressione lineare con linregress (stima il prezzo dai chilometri)

# your code...
slope3, intercept3, r_value3, p_value3, std_err3 = stats.linregress(chilometri, prezzo)
retta_pred3 = slope3 * chilometri + intercept3

plt.figure(figsize=(10, 6))

# Scatter plot dei dati originali
plt.scatter(chilometri, prezzo, color='blue', label='Dati reali')

# Linea di regressione da scipy.linregress
plt.plot(chilometri, retta_pred3, color='red', label='Regressione scipy (linregress)', linewidth=2)


# Etichette e titolo
plt.xlabel('chilometri')
plt.ylabel('Prezzo')
plt.title('Regressione Lineare: chilometri vs Prezzo')

# Legenda
plt.legend()

# Mostra il grafico
plt.show()

# Stampa i risultati delle due regressioni
print(f"Risultati da scipy.linregress:")
print(f"Pendenza (slope): {slope3}")
print(f"Intercetta (intercept): {intercept3}")
print(f"R^2 (r_value^2): {r_value3**2}")
print(f"Valore p (p_value): {p_value3}")
print(f"Errore standard (std_err): {std_err3}")


# Dai un'occhiata ai coefficienti di correlazione per vedere quale delle 3 caratteristiche funziona meglio

# your code......
from sklearn.linear_model import LinearRegression
# Funzione per calcolare il coefficiente di correlazione R^2 usando sklearn
def calculate_r2(X, y):
    regressor = LinearRegression()
    X = X.reshape(-1, 1)  # sklearn richiede che X sia 2D
    regressor.fit(X, y) #addestra il modello di regressione lineare sui dati di input X e i target y; Dopo l'addestramento, il modello ha imparato la relazione tra X e y, e quindi possiamo usarlo per fare previsioni su nuovi dati.
    r2_score = regressor.score(X, y)  # Calcolare R^2
    return r2_score

# Calcolare i coefficienti di correlazione R^2 per ogni variabile indipendente
r2_anno = calculate_r2(anno, prezzo)
r2_chilometri = calculate_r2(chilometri, prezzo)
r2_potenza = calculate_r2(potenza, prezzo)

# Visualizzare i coefficienti di correlazione
print(f"Coefficiente di determinazione (R^2) per 'anno': {r2_anno}")
print(f"Coefficiente di determinazione (R^2) per 'chilometri': {r2_chilometri}")
print(f"Coefficiente di determinazione (R^2) per 'potenza': {r2_potenza}")



# (Opzionale) regressione lineare 2D con linear model (ad es. stima il prezzo da anno e potenza)


# your code......




